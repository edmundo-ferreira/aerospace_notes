{
 "cells": [
  {
   "cell_type": "markdown",
   "metadata": {
    "slideshow": {
     "slide_type": "-"
    }
   },
   "source": [
    "# Megson Exercise P14.3\n",
    "\n",
    "<b>Question</b>: Figure P.14.3 shows the flight envelope at sea-level for an aircraft of wing\n",
    "span 27.5 m, average wing chord 3.05 m and total weight 196 000 N. The aerodynamic\n",
    "centre is 0.915 m forward of the CG and the centre of lift for the tail unit is 16.7 m aft\n",
    "of the CG. The pitching moment coefficient is\n",
    "\n",
    "$$C_{m_0} = −0.0638$$ (nose-up positive) both $C_{m_0} $ and the position of the aerodynamic centre are specified for the complete\n",
    "aircraft less tail unit.\n",
    "\n",
    "For steady cruising flight at sea-level the fuselage bending moment at the CG is\n",
    "600 000 Nm. Calculate the maximum value of this bending moment for the given flight\n",
    "envelope. For this purpose it may be assumed that the aerodynamic loadings on the fuselage itself can be neglected, i.e. the only loads on the fuselage structure aft of the\n",
    "CG are those due to the tail lift and the inertia of the fuselage."
   ]
  },
  {
   "cell_type": "code",
   "execution_count": 1,
   "metadata": {
    "collapsed": false
   },
   "outputs": [
    {
     "name": "stdout",
     "output_type": "stream",
     "text": [
      "IPython console for SymPy 0.7.6 (Python 2.7.6-64-bit) (ground types: python)\n"
     ]
    }
   ],
   "source": [
    "from sympy import symbols\n",
    "from sympy import init_session\n",
    "\n",
    "\n",
    "init_session(quiet=True)\n",
    "init_printing()\n",
    "\n",
    "V, n = symbols('V n') #using symbols for speed and load factor \n",
    "\n",
    "#constants\n",
    "wspan = 27.5\n",
    "c = 3.05 \n",
    "W= 196e3 \n",
    "ac_x = 0.915\n",
    "l = 16.7\n",
    "cm0 = -0.0638\n",
    "Mcgf  = 600000\n",
    "Vcruise = 152.5  #from V-n diagram\n",
    "rho = 1.223      #flight is at sea level\n",
    "S = wspan * c    #wing surface"
   ]
  },
  {
   "cell_type": "markdown",
   "metadata": {},
   "source": [
    "Calculating the aerodynamic moment as function of speed."
   ]
  },
  {
   "cell_type": "code",
   "execution_count": 2,
   "metadata": {
    "collapsed": false
   },
   "outputs": [
    {
     "data": {
      "text/plain": [
       "-9.980435966875*V**2"
      ]
     },
     "execution_count": 2,
     "metadata": {},
     "output_type": "execute_result"
    }
   ],
   "source": [
    "Mac0 = 0.5*rho*c*S*cm0*V*V\n",
    "Mac0\n"
   ]
  },
  {
   "cell_type": "markdown",
   "metadata": {},
   "source": [
    "Calculating Tail Lift as function of speed and load factor"
   ]
  },
  {
   "cell_type": "code",
   "execution_count": 3,
   "metadata": {
    "collapsed": false
   },
   "outputs": [
    {
     "data": {
      "text/plain": [
       "-0.5666*V**2 + 1.018e+4*n"
      ]
     },
     "execution_count": 3,
     "metadata": {},
     "output_type": "execute_result"
    }
   ],
   "source": [
    "Lt = (ac_x*W*n+Mac0)/(l+ac_x)\n",
    "N(Lt,4)"
   ]
  },
  {
   "cell_type": "markdown",
   "metadata": {},
   "source": [
    "For the case of level flight $n=1$ and cruise speed $V=V_c=152.5 m/s$"
   ]
  },
  {
   "cell_type": "code",
   "execution_count": 4,
   "metadata": {
    "collapsed": false
   },
   "outputs": [
    {
     "data": {
      "text/plain": [
       "-2995.60"
      ]
     },
     "execution_count": 4,
     "metadata": {},
     "output_type": "execute_result"
    }
   ],
   "source": [
    "Lt_sl= Lt.evalf(subs={n:1, V:Vcruise})\n",
    "N(Lt_sl,6)"
   ]
  },
  {
   "cell_type": "code",
   "execution_count": 5,
   "metadata": {
    "collapsed": false
   },
   "outputs": [
    {
     "data": {
      "text/plain": [
       "549973.46"
      ]
     },
     "execution_count": 5,
     "metadata": {},
     "output_type": "execute_result"
    }
   ],
   "source": [
    "Mf= l*Lt_sl + Mcgf\n",
    "N(Mf,8)"
   ]
  },
  {
   "cell_type": "markdown",
   "metadata": {},
   "source": [
    "Calculating fuselage bending moment as functions of $V-n$"
   ]
  },
  {
   "cell_type": "code",
   "execution_count": 6,
   "metadata": {
    "collapsed": false
   },
   "outputs": [
    {
     "data": {
      "text/plain": [
       "9.462*V**2 + 3.799e+5*n"
      ]
     },
     "execution_count": 6,
     "metadata": {},
     "output_type": "execute_result"
    }
   ],
   "source": [
    "Mcg = Mf*n -l*Lt\n",
    "N(Mcg,4)"
   ]
  },
  {
   "cell_type": "markdown",
   "metadata": {},
   "source": [
    "Now the maximum for the moment will found at the \"critical points\" of the flight envelope. We try $V,n=(152.5,3.5)$ and $V,n=(183,2.5)$ "
   ]
  },
  {
   "cell_type": "code",
   "execution_count": 7,
   "metadata": {
    "collapsed": false
   },
   "outputs": [
    {
     "data": {
      "text/plain": [
       "1549873."
      ]
     },
     "execution_count": 7,
     "metadata": {},
     "output_type": "execute_result"
    }
   ],
   "source": [
    "N(Mcg.evalf(subs={n:3.5, V:Vcruise}),7)"
   ]
  },
  {
   "cell_type": "code",
   "execution_count": 8,
   "metadata": {
    "collapsed": false
   },
   "outputs": [
    {
     "data": {
      "text/plain": [
       "1266746."
      ]
     },
     "execution_count": 8,
     "metadata": {},
     "output_type": "execute_result"
    }
   ],
   "source": [
    "N(Mcg.evalf(subs={n:2.5, V:183}),7)"
   ]
  },
  {
   "cell_type": "markdown",
   "metadata": {},
   "source": [
    "So the maximum of both is clearly reached at $V=152.5m/s$ and $n=3.5$ with a value of $1549873.0Nm$"
   ]
  },
  {
   "cell_type": "markdown",
   "metadata": {},
   "source": [
    "# Megson Exercise P14.4\n",
    "\n",
    "<b>Question:</b> An aircraft weighing $238000N$ has wings $88.5m^2$ in area for which\n",
    "$C_D = 0.0075 + 0.045C_L^2$ \n",
    "The extra-to-wing drag coefficient based on wing area is\n",
    "$0.0128$ and the pitching moment coefficient for all parts excluding the tailplane about\n",
    "an axis through the CG is given by $C_M·c = (0.427C_L − 0.061)m$. \n",
    "\n",
    "The radius from the CG to the line of action of the tail lift may be taken as constant at $12.2 m$. \n",
    "The moment of inertia of the aircraft for pitching is $204000 kg·m^2$.\n",
    "\n",
    "During a pull-out from a dive with zero thrust at $215 m/s$ EAS when the flight path\n",
    "is at $40^o$ to the horizontal with a radius of curvature of $1525 m$, the angular velocity of\n",
    "pitch is checked by applying a retardation of $0.25 rad/s^2$ . Calculate the manoeuvre load\n",
    "factor both at the CG and at the tailplane CP, the forward inertia coefficient and the tail\n",
    "lift."
   ]
  },
  {
   "cell_type": "code",
   "execution_count": 9,
   "metadata": {
    "collapsed": false
   },
   "outputs": [
    {
     "name": "stdout",
     "output_type": "stream",
     "text": [
      "IPython console for SymPy 0.7.6 (Python 2.7.6-64-bit) (ground types: python)\n"
     ]
    }
   ],
   "source": [
    "\n",
    "from sympy import symbols, solve\n",
    "from sympy import init_session\n",
    "from math  import *\n",
    "\n",
    "init_session(quiet=True)\n",
    "init_printing()\n",
    "\n",
    "g = 9.81\n",
    "V = 215\n",
    "S = 88.5\n",
    "W = 238e3\n",
    "l = 12.2\n",
    "R = 1525\n",
    "Icg = 204000\n",
    "alfa = 0.25\n",
    "theta = 40*pi/180\n",
    "rho = 1.223\n",
    "\n",
    "q = 0.5*rho*pow(V,2)\n",
    "\n",
    "\n",
    "CL, CD, Lt, c = symbols('CL CD Lt c')\n",
    "\n",
    "CD = 0.0075+0.0128 + 0.045*CL*CL\n",
    "\n",
    "Cm = (0.427*CL - 0.061)/c\n",
    "\n",
    "Lt = (q*S*c*Cm)/l\n",
    "\n",
    "az=-pow(V,2)/(R)\n"
   ]
  },
  {
   "cell_type": "code",
   "execution_count": 10,
   "metadata": {
    "collapsed": false
   },
   "outputs": [
    {
     "data": {
      "text/plain": [
       "3.86"
      ]
     },
     "execution_count": 10,
     "metadata": {},
     "output_type": "execute_result"
    }
   ],
   "source": [
    "nz = (-az/g +cos(theta))\n",
    "N(nz,3)"
   ]
  },
  {
   "cell_type": "code",
   "execution_count": 11,
   "metadata": {
    "collapsed": false
   },
   "outputs": [
    {
     "data": {
      "text/plain": [
       "0.359"
      ]
     },
     "execution_count": 11,
     "metadata": {},
     "output_type": "execute_result"
    }
   ],
   "source": [
    "Cl= solve(W*nz - q*S*CL - (q*S*c*Cm)/l,CL)[0]\n",
    "N(Cl,3)"
   ]
  },
  {
   "cell_type": "code",
   "execution_count": 12,
   "metadata": {
    "collapsed": false
   },
   "outputs": [
    {
     "data": {
      "text/plain": [
       "898756."
      ]
     },
     "execution_count": 12,
     "metadata": {},
     "output_type": "execute_result"
    }
   ],
   "source": [
    "L=q*S*Cl\n",
    "N(L,6)"
   ]
  },
  {
   "cell_type": "code",
   "execution_count": 13,
   "metadata": {
    "collapsed": false
   },
   "outputs": [
    {
     "data": {
      "text/plain": [
       "0.026"
      ]
     },
     "execution_count": 13,
     "metadata": {},
     "output_type": "execute_result"
    }
   ],
   "source": [
    "Cd = CD.evalf(subs={CL:Cl})\n",
    "N(Cd,2)"
   ]
  },
  {
   "cell_type": "code",
   "execution_count": 14,
   "metadata": {
    "collapsed": false
   },
   "outputs": [
    {
     "data": {
      "text/plain": [
       "65313."
      ]
     },
     "execution_count": 14,
     "metadata": {},
     "output_type": "execute_result"
    }
   ],
   "source": [
    "D= Cd*q*S\n",
    "N(D,5)"
   ]
  },
  {
   "cell_type": "code",
   "execution_count": 15,
   "metadata": {
    "collapsed": false
   },
   "outputs": [
    {
     "data": {
      "text/plain": [
       "18948."
      ]
     },
     "execution_count": 15,
     "metadata": {},
     "output_type": "execute_result"
    }
   ],
   "source": [
    "LLt = Lt.evalf(subs={CL:Cl})\n",
    "N(LLt,5)"
   ]
  },
  {
   "cell_type": "code",
   "execution_count": 16,
   "metadata": {
    "collapsed": false
   },
   "outputs": [
    {
     "data": {
      "text/plain": [
       "0.27"
      ]
     },
     "execution_count": 16,
     "metadata": {},
     "output_type": "execute_result"
    }
   ],
   "source": [
    "nx = D/W\n",
    "N(nx,2)"
   ]
  },
  {
   "cell_type": "code",
   "execution_count": 17,
   "metadata": {
    "collapsed": false
   },
   "outputs": [
    {
     "data": {
      "text/plain": [
       "3.78"
      ]
     },
     "execution_count": 17,
     "metadata": {},
     "output_type": "execute_result"
    }
   ],
   "source": [
    "nz = (L)/W \n",
    "N(nz,3)"
   ]
  },
  {
   "cell_type": "code",
   "execution_count": 18,
   "metadata": {
    "collapsed": false
   },
   "outputs": [
    {
     "data": {
      "text/plain": [
       "4180."
      ]
     },
     "execution_count": 18,
     "metadata": {},
     "output_type": "execute_result"
    }
   ],
   "source": [
    "dLt = Icg*alfa/l\n",
    "N(dLt,4)"
   ]
  },
  {
   "cell_type": "code",
   "execution_count": 19,
   "metadata": {
    "collapsed": false
   },
   "outputs": [
    {
     "data": {
      "text/plain": [
       "0.3109072375127421"
      ]
     },
     "execution_count": 19,
     "metadata": {},
     "output_type": "execute_result"
    }
   ],
   "source": [
    "alfa*l/g"
   ]
  },
  {
   "cell_type": "markdown",
   "metadata": {},
   "source": [
    "# Megson Exercise P14.5\n",
    "\n",
    "<b>Question:</b>An aircraft flies at sea level in a correctly banked turn of radius 610 m at a\n",
    "speed of $168 m/s$. Figure P.14.5 shows the relative positions of the CG, aerodynamic\n",
    "centre of the complete aircraft less tailplane and the tailplane centre of pressure for the\n",
    "aircraft at zero lift incidence.\n",
    "Calculate the tail load necessary for equilibrium in the turn. The necessary data are\n",
    "given in the usual notation as follows:"
   ]
  },
  {
   "cell_type": "code",
   "execution_count": 20,
   "metadata": {
    "collapsed": false
   },
   "outputs": [
    {
     "name": "stdout",
     "output_type": "stream",
     "text": [
      "IPython console for SymPy 0.7.6 (Python 2.7.6-64-bit) (ground types: python)\n"
     ]
    }
   ],
   "source": [
    "from sympy import symbols, solve\n",
    "from sympy import init_session\n",
    "from math  import *\n",
    "\n",
    "init_session(quiet=True)\n",
    "init_printing()\n",
    "\n",
    "g = 9.81\n",
    "V = 168\n",
    "S = 46.5\n",
    "W = 133500\n",
    "\n",
    "CLa = 4.5\n",
    "Cm0 = -0.03\n",
    "c= 3\n",
    "R = 610\n",
    "rho = 1.223\n",
    "\n",
    "q = 0.5*rho*pow(V,2)\n",
    "\n",
    "CL, CD = symbols('CL, CD')\n",
    "\n",
    "CD = 0.01 +0.05*CL*CL\n"
   ]
  },
  {
   "cell_type": "code",
   "execution_count": 21,
   "metadata": {
    "collapsed": false
   },
   "outputs": [
    {
     "data": {
      "text/plain": [
       "78.03"
      ]
     },
     "execution_count": 21,
     "metadata": {},
     "output_type": "execute_result"
    }
   ],
   "source": [
    "phi = atan(pow(V,2)/(g*R))\n",
    "N(phi*180/pi,4)"
   ]
  },
  {
   "cell_type": "code",
   "execution_count": 22,
   "metadata": {
    "collapsed": false
   },
   "outputs": [
    {
     "data": {
      "text/plain": [
       "643650."
      ]
     },
     "execution_count": 22,
     "metadata": {},
     "output_type": "execute_result"
    }
   ],
   "source": [
    "L = W/cos(phi)\n",
    "N(L,6)"
   ]
  },
  {
   "cell_type": "code",
   "execution_count": 23,
   "metadata": {
    "collapsed": false
   },
   "outputs": [
    {
     "data": {
      "text/plain": [
       "0.802"
      ]
     },
     "execution_count": 23,
     "metadata": {},
     "output_type": "execute_result"
    }
   ],
   "source": [
    "Cl = L/(q*S)\n",
    "N(Cl,3)"
   ]
  },
  {
   "cell_type": "code",
   "execution_count": 24,
   "metadata": {
    "collapsed": false
   },
   "outputs": [
    {
     "data": {
      "text/plain": [
       "0.04216"
      ]
     },
     "execution_count": 24,
     "metadata": {},
     "output_type": "execute_result"
    }
   ],
   "source": [
    "Cd = CD.evalf(subs={CL:Cl})\n",
    "N(Cd,4)"
   ]
  },
  {
   "cell_type": "code",
   "execution_count": 25,
   "metadata": {
    "collapsed": false
   },
   "outputs": [
    {
     "data": {
      "text/plain": [
       "33836."
      ]
     },
     "execution_count": 25,
     "metadata": {},
     "output_type": "execute_result"
    }
   ],
   "source": [
    "D = Cd*q*S\n",
    "N(D,5)"
   ]
  },
  {
   "cell_type": "code",
   "execution_count": 26,
   "metadata": {
    "collapsed": false
   },
   "outputs": [
    {
     "data": {
      "text/plain": [
       "-72228.8"
      ]
     },
     "execution_count": 26,
     "metadata": {},
     "output_type": "execute_result"
    }
   ],
   "source": [
    "M0 = Cm0*q*S*c\n",
    "N(M0,6)"
   ]
  },
  {
   "cell_type": "code",
   "execution_count": 27,
   "metadata": {
    "collapsed": false
   },
   "outputs": [
    {
     "data": {
      "text/plain": [
       "10.2"
      ]
     },
     "execution_count": 27,
     "metadata": {},
     "output_type": "execute_result"
    }
   ],
   "source": [
    "alfa = Cl/CLa\n",
    "N(alfa*180/pi,3)"
   ]
  },
  {
   "cell_type": "code",
   "execution_count": 28,
   "metadata": {
    "collapsed": false
   },
   "outputs": [
    {
     "data": {
      "text/plain": [
       "73190."
      ]
     },
     "execution_count": 28,
     "metadata": {},
     "output_type": "execute_result"
    }
   ],
   "source": [
    "Lt = (L*(0.915*cos(alfa)+0.45*sin(alfa)) + M0 -D*(0.45*cos(alfa)-0.915*sin(alfa)))/(7.625*cos(alfa))\n",
    "N(Lt,5)"
   ]
  },
  {
   "cell_type": "code",
   "execution_count": 29,
   "metadata": {
    "collapsed": false
   },
   "outputs": [
    {
     "data": {
      "text/plain": [
       "4.82134423070684"
      ]
     },
     "execution_count": 29,
     "metadata": {},
     "output_type": "execute_result"
    }
   ],
   "source": [
    "nz = 1/cos(phi)\n",
    "nz"
   ]
  },
  {
   "cell_type": "code",
   "execution_count": 30,
   "metadata": {
    "collapsed": false
   },
   "outputs": [
    {
     "data": {
      "text/plain": [
       "4.82134423070685"
      ]
     },
     "execution_count": 30,
     "metadata": {},
     "output_type": "execute_result"
    }
   ],
   "source": [
    "ny = pow(V,2)/(sin(phi)*g*R)\n",
    "ny"
   ]
  },
  {
   "cell_type": "code",
   "execution_count": 31,
   "metadata": {
    "collapsed": false
   },
   "outputs": [
    {
     "data": {
      "text/plain": [
       "0.7383870967741936"
      ]
     },
     "execution_count": 31,
     "metadata": {},
     "output_type": "execute_result"
    }
   ],
   "source": [
    "3.5*g/46.5\n"
   ]
  },
  {
   "cell_type": "markdown",
   "metadata": {},
   "source": [
    "# Megson Problem 14.6\n",
    "\n",
    "<b>Question:</b> The aircraft for which the stalling speed $V_s$ in level flight is $46.5 m/s$ has a\n",
    "maximum allowable manoeuvre load factor $n_1 =4.0$. In assessing gyroscopic effects\n",
    "on the engine mounting the following two cases are to be considered:\n",
    "\n",
    "(a) Pull-out at maximum permissible rate from a dive in symmetric flight, the angle\n",
    "of the flight path to the horizontal being limited to $60^o$ for this aircraft.\n",
    "\n",
    "(b) Steady, correctly banked turn at the maximum permissible rate in horizontal\n",
    "flight.\n",
    "Find the corresponding maximum angular velocities in yaw and pitch."
   ]
  },
  {
   "cell_type": "markdown",
   "metadata": {},
   "source": [
    "\n",
    "<b>Answer:</b>\n",
    "\n",
    "\n",
    "The level flight ($a_z=0$) condition means the follwing condition:\n",
    "    $$ L-W = ma_z=0$$\n",
    "    $$ \\frac{1}{2}\\rho V_s^2 S C_{L_{max}} = W$$\n",
    "    \n",
    "For other maneuring circumstances the maximum load fractor $n1$ will be applied to contrains the flight envelop therefore:\n",
    "    $$\\frac{L}{W}=n1$$\n",
    "    $$\\frac{1}{2}\\rho V^2 S C_L = n1 W$$\n",
    "\n",
    "Dividing this equation by the previous:\n",
    "    $$ V^2 C_L = n1 V_s^2 C_{L_{max}}$$\n",
    "    \n",
    "    \n",
    "If we futher assume that the manuevering will happen also at maximum lift factor:\n",
    "    $$ V = \\sqrt{n1} V_s$$\n",
    "    \n",
    "Giving us aircraft speed in function of the stall speed at level flight and the maximum load factor.\n"
   ]
  },
  {
   "cell_type": "code",
   "execution_count": 32,
   "metadata": {
    "collapsed": false
   },
   "outputs": [
    {
     "data": {
      "text/plain": [
       "93.0"
      ]
     },
     "execution_count": 32,
     "metadata": {},
     "output_type": "execute_result"
    }
   ],
   "source": [
    "from math  import *\n",
    "\n",
    "n1=4.0\n",
    "g =9.81\n",
    "Vs=46.5\n",
    "theta = radians(60)\n",
    "\n",
    "V = sqrt(n1) *Vs\n",
    "N(V,3)"
   ]
  },
  {
   "cell_type": "markdown",
   "metadata": {},
   "source": [
    "<b>a)</b> For the manuevering scenario of pull out at maximum pitch angle of $60^o$\n",
    "\n",
    "Momentum Balance in body axes $x$ and $z$ assuming that thrust balances drag and disregarding tail lift:\n",
    "    $$ ma_x = Wsin(\\theta)$$\n",
    "    $$ ma_z = L - Wcos(\\theta)$$\n",
    "\n",
    "Given that mass can be expressed as weight $m = W/g$\n",
    "    $$ W\\frac{a_x}{g} = Wsin(\\theta)$$\n",
    "    $$ W\\frac{a_z}{g} = L - Wcos(\\theta)$$\n",
    "    \n",
    "The pull out maneuver is one that correspondes to circular motion with centripetal aceleration in the $z$ axes there $a_z=V^2/R$ then simplifying the $z$ momentum equation:\n",
    "    $$ \\frac{V^2}{gR} + cos(\\theta) = \\frac{L}{W} = n1$$\n",
    "\n",
    "What is actually being asked to calculate the angular pitch speed $\\omega_z = V/R$ replacing for $R$ in the previous equation:\n",
    "    $$ \\frac{V \\omega_z}{g} = n1 - cos(\\theta)$$\n",
    "     \n",
    "Simplifying for the pitch speed:\n",
    "    $$ \\omega_z= \\frac{[n1 - cos(\\theta)]g}{V}$$\n",
    "  \n"
   ]
  },
  {
   "cell_type": "code",
   "execution_count": 33,
   "metadata": {
    "collapsed": false
   },
   "outputs": [
    {
     "data": {
      "text/plain": [
       "0.37"
      ]
     },
     "execution_count": 33,
     "metadata": {},
     "output_type": "execute_result"
    }
   ],
   "source": [
    "omega_z = ((n1-cos(theta))*g)/V\n",
    "N(omega_z,2)"
   ]
  },
  {
   "cell_type": "markdown",
   "metadata": {},
   "source": [
    "<b>b)</b> For the manuevering scenario of correctly banked turn:\n",
    "\n",
    "Taken the momentum balance also in body axes $y$ and $z$:\n",
    "    $$\\qquad ma_y = Wsin(\\phi)$$\n",
    "    $$\\qquad ma_z = L - Wcos(\\phi)$$\n",
    "    \n",
    "Since we used body axis to represent the momentum equation the centripetal aceleratio $V^2/R$ has to be decomposed into these axes:\n",
    "    $$\\qquad \\frac{V^2 cos(\\phi)}{gR} = sin(\\phi) \\qquad \\Leftrightarrow \\quad  tan(\\phi) = \\frac{V^2}{gR}$$\n",
    "    $$\\qquad \\frac{V^2 sin(\\phi)}{gR} + cos(\\phi)= \\frac{L}{W} = n1 \\qquad \\Leftrightarrow \\quad tan(\\phi)sin(\\phi) + cos(\\phi)= n1$$\n",
    "    \n",
    "Using the relation between angular and linear velocity $\\omega = V/R$:\n",
    "    $$\\qquad \\frac{V \\omega cos(\\phi)}{g} = sin(\\phi) $$\n",
    "    $$\\qquad \\frac{V \\omega sin(\\phi)}{g} + cos(\\phi)= n1 $$\n",
    "    \n",
    "    \n",
    "The angular speed $\\omega$ can also be decomposed in each individual axis:\n",
    "    $$$$\n",
    "    $\\qquad \\omega_y = \\omega cos(\\phi) \\qquad$ which represents pitch angular speed $$$$\n",
    "    $\\qquad \\omega_z = \\omega sin(\\phi) \\qquad$ which represents yaw angular speed\n",
    "    \n",
    "Replacing the previous definitions into the previous equation and solving for the angular speeds:\n",
    "    $$\\qquad \\omega_y = \\frac{sin(\\phi)g}{V} $$\n",
    "    $$\\qquad \\omega_z = \\frac{[n1 - cos(\\phi)]g}{V}$$\n",
    "    \n",
    "The bank angle can be determined by:\n",
    "    $$\\qquad tan(\\phi)sin(\\phi) + cos(\\phi)= n1$$\n",
    "    $$\\qquad \\frac{sin(\\phi)^2}{cos(\\phi)} + cos(\\phi) = n1$$\n",
    "    \n",
    "Using the trigonometric $sin(phi)^2 + cos(\\phi)^2 = 1$:\n",
    "    $$\\qquad \\frac{1-cos(\\phi)^2}{cos(\\phi)} + cos(\\phi) = n1$$\n",
    "    $$\\qquad \\frac{1}{cos(\\phi)} = n1$$\n",
    "    $$\\qquad \\phi = cos^{-1}(\\frac{1}{n1})$$\n"
   ]
  },
  {
   "cell_type": "code",
   "execution_count": 34,
   "metadata": {
    "collapsed": false
   },
   "outputs": [
    {
     "data": {
      "text/plain": [
       "75.52248781407008"
      ]
     },
     "execution_count": 34,
     "metadata": {},
     "output_type": "execute_result"
    }
   ],
   "source": [
    "phi = acos(1/n1)\n",
    "degrees(phi)"
   ]
  },
  {
   "cell_type": "markdown",
   "metadata": {},
   "source": [
    "Now the angular speed for yaw:"
   ]
  },
  {
   "cell_type": "code",
   "execution_count": 35,
   "metadata": {
    "collapsed": false
   },
   "outputs": [
    {
     "data": {
      "text/plain": [
       "0.40"
      ]
     },
     "execution_count": 35,
     "metadata": {},
     "output_type": "execute_result"
    }
   ],
   "source": [
    "wz = (n1-cos(phi))*g/(2*Vs)\n",
    "N(wz,2)"
   ]
  },
  {
   "cell_type": "markdown",
   "metadata": {},
   "source": [
    "and angular speed for pitch:"
   ]
  },
  {
   "cell_type": "code",
   "execution_count": 36,
   "metadata": {
    "collapsed": false
   },
   "outputs": [
    {
     "data": {
      "text/plain": [
       "0.102"
      ]
     },
     "execution_count": 36,
     "metadata": {},
     "output_type": "execute_result"
    }
   ],
   "source": [
    "wy = (g*sin(phi))/(2*Vs)\n",
    "N(wy,3)"
   ]
  },
  {
   "cell_type": "markdown",
   "metadata": {},
   "source": [
    "# Megson Problem 14.7\n",
    "\n",
    "<b>Question:</b>A tail-first supersonic airliner, whose essential geometry is shown in\n",
    "Fig. P.14.7, flies at 610 m/s true airspeed at an altitude of 18 300 m. Assuming that\n",
    "thrust and drag forces act in the same straight line, calculate the tail lift in steady\n",
    "straight and level flight\n",
    "\n",
    "If, at the same altitude, the aircraft encounters a sharp-edged vertical up-gust of\n",
    "18 m/s true airspeed, calculate the changes in the lift and tail load and also the resultant\n",
    "load factor n."
   ]
  },
  {
   "cell_type": "markdown",
   "metadata": {},
   "source": [
    "<b>Answer:</b>\n",
    "\n",
    "We start by taking a balance of momentum in the the $x$, $z$ and $\\theta$ axis, remembering they are zero since steady level flight condition:\n",
    "    $$ ma_x = T-D = 0 $$ \n",
    "    $$ ma_z = L+L_t -W = 0$$\n",
    "    $$ I_{cg} \\ddot{\\theta} = M_0 - lcos(\\alpha_w)L_t + acos(\\alpha_w)L = 0$$\n",
    "    \n",
    "The first equation only states the blance of thrust and drag therefore only the last two are usefull:\n",
    "    $$ L = W -L_t$$\n",
    "    $$ M_0 - lcos(\\alpha_w)L_t + acos(\\alpha_w)(W-L_t) = 0$$\n",
    "\n",
    "Solving for the tail lift $L_t$:\n",
    "     $$ L_t = \\frac{ acos(\\alpha_w)W + qSc C_{m_0}} {lcos(\\alpha_w + acos(\\alpha_w)}$$\n",
    "     \n",
    "We have 2 equations and 3 unknows ($L$, $L_t$ and $\\alpha_w$) therefore and iterative process is necessary. We opted by the following one where we assume $L_t = 0$ and use the following equation to calculate wing angle of attack and the $L$\n",
    "     $$ \\alpha_w = \\frac{W - L_t}{qSC_{L_{\\alpha_w}} }$$\n",
    "     $$ L = qSC_{L_{\\alpha_w}} \\alpha_w$$\n",
    "\n",
    "Then we then calculate $L_t$ and even $\\alpha_t$ tail angle of attack:\n",
    "     $$ L_t = \\frac{ acos(\\alpha_w)W + qSc C_{m_0}} {lcos(\\alpha_w + acos(\\alpha_w)}$$\n",
    "     $$ \\alpha_t = \\frac{L_t}{qS_tC_{L_{\\alpha_t}}}$$\n",
    "     \n",
    "Then repeat until we have the desired error using $L+L_t -W < \\delta_{error}$\n",
    "    "
   ]
  },
  {
   "cell_type": "code",
   "execution_count": 54,
   "metadata": {
    "collapsed": false
   },
   "outputs": [
    {
     "name": "stdout",
     "output_type": "stream",
     "text": [
      "(267990.5727940849, 10.113597394115114, 12.704759806207852, 267990.572794085, 1600000.0)\n",
      "(134.70635310490616, 8.419629419954068, 12.698373716418473, 267855.86644097994, 1332009.427205915)\n",
      "(0.061277755768969655, 8.42048089859265, 12.698376621442929, 267855.9277187357, 1332144.13355902)\n"
     ]
    }
   ],
   "source": [
    " from math  import *\n",
    "    \n",
    "\n",
    "h = 1830\n",
    "g =9.81\n",
    "V =610\n",
    "dV = 18\n",
    "S = 280\n",
    "St = 28\n",
    "c = 22.8\n",
    "rho = 0.116\n",
    "\n",
    "\n",
    "a = 7.5\n",
    "l = 50 - a\n",
    "\n",
    "W = 1600000\n",
    "Cm0 = 0.01\n",
    "CLa = 1.5\n",
    "CLta = 2.0\n",
    "\n",
    "\n",
    "q = 0.5*rho*pow(V,2)\n",
    "\n",
    "Lt = 0       #start assumption that Tail lift is zero best guess for a good inicial condition\n",
    "conv = False\n",
    "\n",
    "while(not conv):\n",
    "    alfa_w = (W - Lt)/(q*S*CLa)\n",
    "    \n",
    "    L = q*S*CLa*alfa_w\n",
    "    \n",
    "    Lt = Lt= (q*S*c*Cm0 + a*cos(alfa_w)*W)/(l*cos(alfa_w) +a*cos(alfa_w))\n",
    "    \n",
    "    alfa_t = Lt/(q*St*CLta)\n",
    "    \n",
    "    \n",
    "    error = abs(L+Lt -W)\n",
    "    conv = error < 1 #error or less than 1 Newton\n",
    "    \n",
    "\n",
    "    print(error,degrees(alfa_w),degrees(alfa_t),Lt,L)\n"
   ]
  },
  {
   "cell_type": "code",
   "execution_count": 55,
   "metadata": {
    "collapsed": false
   },
   "outputs": [
    {
     "data": {
      "text/plain": [
       "1332144."
      ]
     },
     "execution_count": 55,
     "metadata": {},
     "output_type": "execute_result"
    }
   ],
   "source": [
    "N(L,7)"
   ]
  },
  {
   "cell_type": "code",
   "execution_count": 56,
   "metadata": {
    "collapsed": false
   },
   "outputs": [
    {
     "data": {
      "text/plain": [
       "267856."
      ]
     },
     "execution_count": 56,
     "metadata": {},
     "output_type": "execute_result"
    }
   ],
   "source": [
    "N(Lt,6)"
   ]
  },
  {
   "cell_type": "code",
   "execution_count": 57,
   "metadata": {
    "collapsed": false
   },
   "outputs": [
    {
     "data": {
      "text/plain": [
       "8.42"
      ]
     },
     "execution_count": 57,
     "metadata": {},
     "output_type": "execute_result"
    }
   ],
   "source": [
    "N(degrees(alfa_w),3)"
   ]
  },
  {
   "cell_type": "code",
   "execution_count": 58,
   "metadata": {
    "collapsed": false
   },
   "outputs": [
    {
     "data": {
      "text/plain": [
       "12.7"
      ]
     },
     "execution_count": 58,
     "metadata": {},
     "output_type": "execute_result"
    }
   ],
   "source": [
    "N(degrees(alfa_t),3)"
   ]
  },
  {
   "cell_type": "markdown",
   "metadata": {},
   "source": [
    "In the case of a sharp gust load the follwing equations apply:\n",
    "    $$ V' = \\sqrt{V^2 + \\Delta V^2} \\approx V $$\n",
    "    $$ \\Delta \\alpha = tan(\\frac{\\Delta V}{V}) \\approx \\frac{\\Delta V}{V} $$\n",
    "    \n",
    "Calculating the variation in force by the variation in angle of attack:\n",
    "    $$ \\Delta L = qSC_{L_{\\alpha_w}} \\Delta \\alpha $$\n",
    "    $$ \\Delta L_t = qS_tC_{L_{\\alpha_t}} \\Delta \\alpha$$\n",
    "\n",
    "The the resultant load factor is taken from the momentum equation\n",
    "    $$ W(\\frac{a_x}{g} +1) = L +L_t $$ \n",
    "    $$ n = \\frac{a_x}{g} +1 = \\frac{L +L_t}{W}  $$\n",
    "    $$ n = \\frac{L+\\Delta L +L_t +\\Delta L_t}{W} $$\n",
    "    $$ n = 1 + \\frac{\\Delta L +\\Delta L_t}{W} $$"
   ]
  },
  {
   "cell_type": "code",
   "execution_count": 63,
   "metadata": {
    "collapsed": false
   },
   "outputs": [
    {
     "data": {
      "text/plain": [
       "0.0295"
      ]
     },
     "execution_count": 63,
     "metadata": {},
     "output_type": "execute_result"
    }
   ],
   "source": [
    "dalfa = dV /V\n",
    "N(dalfa,3)"
   ]
  },
  {
   "cell_type": "code",
   "execution_count": 64,
   "metadata": {
    "collapsed": false
   },
   "outputs": [
    {
     "data": {
      "text/plain": [
       "267473."
      ]
     },
     "execution_count": 64,
     "metadata": {},
     "output_type": "execute_result"
    }
   ],
   "source": [
    "dL = q*S*CLa*dalfa\n",
    "N(dL,6)"
   ]
  },
  {
   "cell_type": "code",
   "execution_count": 65,
   "metadata": {
    "collapsed": false
   },
   "outputs": [
    {
     "data": {
      "text/plain": [
       "35663.0"
      ]
     },
     "execution_count": 65,
     "metadata": {},
     "output_type": "execute_result"
    }
   ],
   "source": [
    "dLt = q*St*CLta*dalfa\n",
    "N(dLt,6)"
   ]
  },
  {
   "cell_type": "code",
   "execution_count": 66,
   "metadata": {
    "collapsed": false
   },
   "outputs": [
    {
     "data": {
      "text/plain": [
       "1.19"
      ]
     },
     "execution_count": 66,
     "metadata": {},
     "output_type": "execute_result"
    }
   ],
   "source": [
    "n = 1 + (dL+dLt)/W\n",
    "N(n,3)"
   ]
  },
  {
   "cell_type": "markdown",
   "metadata": {},
   "source": [
    "# Megson Problem 14.8"
   ]
  },
  {
   "cell_type": "markdown",
   "metadata": {},
   "source": [
    "<b>Question:</b>An aircraft of all up weight $145000 N$ has wings of area $50 m^2$ and mean\n",
    "chord $2.5 m$. For the whole aircraft $C_D = 0.021 + 0.041C_L^2$ , for the wings $dC_L /dα = 4.8$,\n",
    "for the tailplane of area $9.0 m^2$ , $dC_{L_t} /d\\alpha = 2.2$ allowing for the effects of downwash,\n",
    "and the pitching moment coefficient about the aerodynamic centre (of complete aircraft\n",
    "less tailplane) based on wing area is $C_{m_0} = −0.032$. Geometric data are given in\n",
    "Fig. P.14.8.\n",
    "\n",
    "During a steady glide with zero thrust at $250 m/s$ EAS in which $C_L = 0.08$, the aircraft\n",
    "meets a downgust of equivalent ‘sharp-edged’ speed 6 m/s. Calculate the tail load, the\n",
    "gust load factor and the forward inertia force, $ρ_0 = 1.223 kg/m^3$ ."
   ]
  },
  {
   "cell_type": "code",
   "execution_count": 46,
   "metadata": {
    "collapsed": false
   },
   "outputs": [],
   "source": [
    "from math  import *\n",
    "    \n",
    "\n",
    "g =9.81\n",
    "V =250\n",
    "dV = 6\n",
    "S = 50\n",
    "St = 9\n",
    "c = 2.5\n",
    "rho = 1.223\n",
    "\n",
    "q = 0.5*rho*pow(V,2)\n",
    "\n",
    "W = 145000\n",
    "Cm0 = 0.032\n",
    "CLa = 4.8\n",
    "CLta = 2.2\n",
    "\n",
    "CL = 0.08\n",
    "CD = 0.021 + 0.041*pow(CL,2)\n",
    "\n"
   ]
  },
  {
   "cell_type": "code",
   "execution_count": 47,
   "metadata": {
    "collapsed": false
   },
   "outputs": [
    {
     "data": {
      "text/plain": [
       "0.96"
      ]
     },
     "execution_count": 47,
     "metadata": {},
     "output_type": "execute_result"
    }
   ],
   "source": [
    "alfa_w = CL/CLa\n",
    "N(degrees(alfa_w),2)"
   ]
  },
  {
   "cell_type": "code",
   "execution_count": 48,
   "metadata": {
    "collapsed": false
   },
   "outputs": [
    {
     "data": {
      "text/plain": [
       "0.0213"
      ]
     },
     "execution_count": 48,
     "metadata": {},
     "output_type": "execute_result"
    }
   ],
   "source": [
    "N(CD,3)"
   ]
  },
  {
   "cell_type": "code",
   "execution_count": null,
   "metadata": {
    "collapsed": false
   },
   "outputs": [],
   "source": []
  }
 ],
 "metadata": {
  "kernelspec": {
   "display_name": "Python 2",
   "language": "python",
   "name": "python2"
  },
  "language_info": {
   "codemirror_mode": {
    "name": "ipython",
    "version": 2
   },
   "file_extension": ".py",
   "mimetype": "text/x-python",
   "name": "python",
   "nbconvert_exporter": "python",
   "pygments_lexer": "ipython2",
   "version": "2.7.6"
  }
 },
 "nbformat": 4,
 "nbformat_minor": 0
}
